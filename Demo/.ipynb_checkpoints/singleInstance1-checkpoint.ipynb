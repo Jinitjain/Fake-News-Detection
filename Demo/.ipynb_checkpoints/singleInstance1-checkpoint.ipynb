{
 "cells": [
  {
   "cell_type": "code",
   "execution_count": 74,
   "metadata": {
    "colab": {
     "base_uri": "https://localhost:8080/",
     "height": 126
    },
    "colab_type": "code",
    "id": "LF6xlRqPuVsr",
    "outputId": "68d4c81a-497b-4d4c-86e9-ed65935eb39a"
   },
   "outputs": [],
   "source": [
    "import sys\n",
    "sys.path.append('../')\n",
    "import pandas as pd\n",
    "from TemporalInterpreter import instanceComputation\n",
    "from TemporalInterpreter import enhancer\n",
    "from Sentiment import addToCsv\n",
    "import news_classifier\n",
    "from EmotionClassification import emotionFunctions"
   ]
  },
  {
   "cell_type": "code",
   "execution_count": 75,
   "metadata": {},
   "outputs": [],
   "source": [
    "path = '../Datasets/Working_Data/sample.csv'"
   ]
  },
  {
   "cell_type": "code",
   "execution_count": 85,
   "metadata": {},
   "outputs": [],
   "source": [
    "input_df = pd.read_csv(path, encoding='utf-8')"
   ]
  },
  {
   "cell_type": "code",
   "execution_count": 86,
   "metadata": {},
   "outputs": [
    {
     "data": {
      "text/html": [
       "<div>\n",
       "<style scoped>\n",
       "    .dataframe tbody tr th:only-of-type {\n",
       "        vertical-align: middle;\n",
       "    }\n",
       "\n",
       "    .dataframe tbody tr th {\n",
       "        vertical-align: top;\n",
       "    }\n",
       "\n",
       "    .dataframe thead th {\n",
       "        text-align: right;\n",
       "    }\n",
       "</style>\n",
       "<table border=\"1\" class=\"dataframe\">\n",
       "  <thead>\n",
       "    <tr style=\"text-align: right;\">\n",
       "      <th></th>\n",
       "      <th>id</th>\n",
       "      <th>language</th>\n",
       "      <th>main_img_url</th>\n",
       "      <th>published</th>\n",
       "      <th>text</th>\n",
       "      <th>title</th>\n",
       "      <th>type</th>\n",
       "      <th>uuid</th>\n",
       "      <th>word_count</th>\n",
       "      <th>average_word_count</th>\n",
       "      <th>...</th>\n",
       "      <th>anger</th>\n",
       "      <th>disgust</th>\n",
       "      <th>fear</th>\n",
       "      <th>joy</th>\n",
       "      <th>sadness</th>\n",
       "      <th>surprise</th>\n",
       "      <th>trust</th>\n",
       "      <th>anticipation</th>\n",
       "      <th>category</th>\n",
       "      <th>category_probability</th>\n",
       "    </tr>\n",
       "  </thead>\n",
       "  <tbody>\n",
       "    <tr>\n",
       "      <td>0</td>\n",
       "      <td>7.0</td>\n",
       "      <td>english</td>\n",
       "      <td>https://static01.nyt.com/images/2016/11/21/us/...</td>\n",
       "      <td>2016-11-21 01:42:23</td>\n",
       "      <td>President-elect Donald J. Trump s wife, Melani...</td>\n",
       "      <td>Melania and Barron Trump Wont Immediately Move...</td>\n",
       "      <td>real</td>\n",
       "      <td>584700e476e0d3c20731cb3d28e6ce2b</td>\n",
       "      <td>518</td>\n",
       "      <td>14.0</td>\n",
       "      <td>...</td>\n",
       "      <td>0.02037</td>\n",
       "      <td>0.002589</td>\n",
       "      <td>0.040738</td>\n",
       "      <td>0.293498</td>\n",
       "      <td>0.016402</td>\n",
       "      <td>0.01618</td>\n",
       "      <td>0.609104</td>\n",
       "      <td>0.00112</td>\n",
       "      <td>politics</td>\n",
       "      <td>0.987329</td>\n",
       "    </tr>\n",
       "  </tbody>\n",
       "</table>\n",
       "<p>1 rows × 27 columns</p>\n",
       "</div>"
      ],
      "text/plain": [
       "    id language                                       main_img_url  \\\n",
       "0  7.0  english  https://static01.nyt.com/images/2016/11/21/us/...   \n",
       "\n",
       "             published                                               text  \\\n",
       "0  2016-11-21 01:42:23  President-elect Donald J. Trump s wife, Melani...   \n",
       "\n",
       "                                               title  type  \\\n",
       "0  Melania and Barron Trump Wont Immediately Move...  real   \n",
       "\n",
       "                               uuid  word_count  average_word_count  ...  \\\n",
       "0  584700e476e0d3c20731cb3d28e6ce2b         518                14.0  ...   \n",
       "\n",
       "     anger   disgust      fear       joy   sadness  surprise     trust  \\\n",
       "0  0.02037  0.002589  0.040738  0.293498  0.016402   0.01618  0.609104   \n",
       "\n",
       "   anticipation  category  category_probability  \n",
       "0       0.00112  politics              0.987329  \n",
       "\n",
       "[1 rows x 27 columns]"
      ]
     },
     "execution_count": 86,
     "metadata": {},
     "output_type": "execute_result"
    }
   ],
   "source": [
    "input_df"
   ]
  },
  {
   "cell_type": "code",
   "execution_count": 87,
   "metadata": {},
   "outputs": [],
   "source": [
    "input_df = input_df.filter(['id', 'language', 'main_img_url', 'published', 'text', 'title'])"
   ]
  },
  {
   "cell_type": "code",
   "execution_count": 88,
   "metadata": {},
   "outputs": [
    {
     "data": {
      "text/html": [
       "<div>\n",
       "<style scoped>\n",
       "    .dataframe tbody tr th:only-of-type {\n",
       "        vertical-align: middle;\n",
       "    }\n",
       "\n",
       "    .dataframe tbody tr th {\n",
       "        vertical-align: top;\n",
       "    }\n",
       "\n",
       "    .dataframe thead th {\n",
       "        text-align: right;\n",
       "    }\n",
       "</style>\n",
       "<table border=\"1\" class=\"dataframe\">\n",
       "  <thead>\n",
       "    <tr style=\"text-align: right;\">\n",
       "      <th></th>\n",
       "      <th>id</th>\n",
       "      <th>language</th>\n",
       "      <th>main_img_url</th>\n",
       "      <th>published</th>\n",
       "      <th>text</th>\n",
       "      <th>title</th>\n",
       "    </tr>\n",
       "  </thead>\n",
       "  <tbody>\n",
       "    <tr>\n",
       "      <td>0</td>\n",
       "      <td>7.0</td>\n",
       "      <td>english</td>\n",
       "      <td>https://static01.nyt.com/images/2016/11/21/us/...</td>\n",
       "      <td>2016-11-21 01:42:23</td>\n",
       "      <td>President-elect Donald J. Trump s wife, Melani...</td>\n",
       "      <td>Melania and Barron Trump Wont Immediately Move...</td>\n",
       "    </tr>\n",
       "  </tbody>\n",
       "</table>\n",
       "</div>"
      ],
      "text/plain": [
       "    id language                                       main_img_url  \\\n",
       "0  7.0  english  https://static01.nyt.com/images/2016/11/21/us/...   \n",
       "\n",
       "             published                                               text  \\\n",
       "0  2016-11-21 01:42:23  President-elect Donald J. Trump s wife, Melani...   \n",
       "\n",
       "                                               title  \n",
       "0  Melania and Barron Trump Wont Immediately Move...  "
      ]
     },
     "execution_count": 88,
     "metadata": {},
     "output_type": "execute_result"
    }
   ],
   "source": [
    "input_df"
   ]
  },
  {
   "cell_type": "code",
   "execution_count": 72,
   "metadata": {},
   "outputs": [
    {
     "name": "stdout",
     "output_type": "stream",
     "text": [
      "Loaded model from disk\n",
      "Loaded tokenizer from disk\n"
     ]
    },
    {
     "data": {
      "text/plain": [
       "'politics'"
      ]
     },
     "execution_count": 72,
     "metadata": {},
     "output_type": "execute_result"
    }
   ],
   "source": [
    "news_classifier.predict_news_category(input_df.iloc[0]['title'],input_df.iloc[0]['text'])"
   ]
  },
  {
   "cell_type": "code",
   "execution_count": 79,
   "metadata": {},
   "outputs": [
    {
     "data": {
      "text/plain": [
       "{'ti-cnn': 0.4,\n",
       " 'delta': -0.042107004219409286,\n",
       " 'resultCategory': 'neutral',\n",
       " 'ranges': {'mostlyFake': [0.0, 0.15789299578059074],\n",
       "  'likelyFake': [0.15789299578059074, 0.35789299578059075],\n",
       "  'neutral': [0.35789299578059075, 0.5578929957805907],\n",
       "  'likelyReal': [0.5578929957805907, 0.7578929957805908],\n",
       "  'mostlyReal': [0.7578929957805908, 1.0]}}"
      ]
     },
     "execution_count": 79,
     "metadata": {},
     "output_type": "execute_result"
    }
   ],
   "source": [
    "instanceComputation.findResults(input_df,7)"
   ]
  },
  {
   "cell_type": "code",
   "execution_count": null,
   "metadata": {},
   "outputs": [],
   "source": [
    "'''\n",
    "# Get input from the user\n",
    "# Determine if it has an image or not\n",
    "# Preprocess the input based on the above output\n",
    "# Pass the preprocessed input into the corresponding trained model\n",
    "# Get the output \n",
    "# Determine news category\n",
    "# Determine trending fraction\n",
    "# Pass to enhancer\n",
    "# Get one of the five categories for this input\n",
    "'''\n",
    "\n",
    "def getInput(id = 0, published = date.today(), text = \"NA\", title = 'notitle', language = 'english', uuid = 123456789, main_img_url = 'NULL'):\n",
    "  df = processOnNewInput(id = id, published = str(published), text = text, title = title, language = language, uuid = uuid, main_img_url = main_img_url)\n",
    "  if hasImage(df):\n",
    "    preprocessWithImage(df)\n",
    "  elif !hasImage(df):\n",
    "    preprocessWithoutImage(df)\n",
    "\n",
    "def hasImage(dfToCheckImage):\n",
    "  if dfToCheckImage[main_img_url == \"NULL\"]:\n",
    "    return False\n",
    "  elif dfToCheckImage[main_img_url != \"NULL\"]:\n",
    "    return True\n",
    "\n",
    "def workflowWithImage():\n",
    "  pass\n",
    "\n",
    "def workflowWithoutImage():\n",
    "  pass\n",
    "\n",
    "\n",
    "\n",
    "def preprocessWithoutImage(df):\n",
    "  pass\n",
    "\n",
    "def preprocessWithImage(df):\n",
    "  pass\n",
    "\n",
    "def predictWithImage(df):\n",
    "  pass\n",
    "\n",
    "def predictWithoutImage(df):\n",
    "  pass\n",
    "\n",
    "def getNewsCategory(df):\n",
    "    temp = news_classifier.predict_news_category(df.iloc[0]['title'],df.iloc[0]['text'])\n",
    "    df['category'] = [temp]\n",
    "    return df\n",
    "\n",
    "def getEmotion(df):\n",
    "    df['emotion'] = ['Trust']\n",
    "    df['anger'] = [0.02036995068192480 ]\n",
    "    df['disgust'] = [0.0025885524228215200]\n",
    "    df['fear'] = [0.040737882256507900]\n",
    "    df['joy'] = [0.2934975624084470]\n",
    "    df['sadness'] = [0.016401702538132700]\n",
    "    df['surprise'] = [0.016180003061890600]\n",
    "    df['trust'] = [0.6091040372848510]\n",
    "    df['anticipation'] = [0.00112029816955328]\n",
    "    return df\n",
    "\n",
    "def getSentiment(df):\n",
    "    df = addToCsv.addsentiments(df)\n",
    "    df = addToCsv.addSentimentCategory(df)\n",
    "    return df\n",
    "\n",
    "def getTrendingFraction(df):\n",
    "    categoryName = df.iloc[0]['category']\n",
    "    return enhancer.categoryFractionDF(df, categoryName)\n",
    "\n",
    "def getDelta(df):\n",
    "    results = instanceComputation.findResults(df, 7)\n",
    "    return results['delta']\n",
    "\n",
    "def getResultCategory(df):\n",
    "    return instanceComputation.predictCategory(df, 7)\n",
    "\n",
    "\n"
   ]
  },
  {
   "cell_type": "code",
   "execution_count": 91,
   "metadata": {},
   "outputs": [],
   "source": [
    "def getEmotion(df):\n",
    "    df['emotion'] = ['Trust']\n",
    "    df['anger'] = [0.02036995068192480 ]\n",
    "    df['disgust'] = [0.0025885524228215200]\n",
    "    df['fear'] = [0.040737882256507900]\n",
    "    df['joy'] = [0.2934975624084470]\n",
    "    df['sadness'] = [0.016401702538132700]\n",
    "    df['surprise'] = [0.016180003061890600]\n",
    "    df['trust'] = [0.6091040372848510]\n",
    "    df['anticipation'] = [0.00112029816955328]\n",
    "    return df\n",
    "input_df = getEmotion(input_df)"
   ]
  },
  {
   "cell_type": "code",
   "execution_count": 92,
   "metadata": {},
   "outputs": [
    {
     "name": "stdout",
     "output_type": "stream",
     "text": [
      "Loaded model from disk\n",
      "Loaded tokenizer from disk\n"
     ]
    }
   ],
   "source": [
    "def getNewsCategory(df):\n",
    "    temp = news_classifier.predict_news_category(df.iloc[0]['title'],df.iloc[0]['text'])\n",
    "    df['category'] = [temp]\n",
    "    return df\n",
    "input_df = getNewsCategory(input_df)"
   ]
  },
  {
   "cell_type": "code",
   "execution_count": 93,
   "metadata": {
    "colab": {},
    "colab_type": "code",
    "id": "BvHnf1ez7pC8"
   },
   "outputs": [],
   "source": [
    "def getSentiment(df):\n",
    "    df = addToCsv.addsentiments(df)\n",
    "    df = addToCsv.addSentimentCategory(df)\n",
    "    return df\n",
    "input_df = getSentiment(input_df)"
   ]
  },
  {
   "cell_type": "code",
   "execution_count": 99,
   "metadata": {},
   "outputs": [
    {
     "data": {
      "text/plain": [
       "1.0"
      ]
     },
     "execution_count": 99,
     "metadata": {},
     "output_type": "execute_result"
    }
   ],
   "source": [
    "def getTrendingFraction(df):\n",
    "    categoryName = df.iloc[0]['category']\n",
    "    return enhancer.categoryFractionDF(df, categoryName)\n",
    "getTrendingFraction(input_df)"
   ]
  },
  {
   "cell_type": "code",
   "execution_count": 100,
   "metadata": {},
   "outputs": [
    {
     "data": {
      "text/plain": [
       "-0.042107004219409286"
      ]
     },
     "execution_count": 100,
     "metadata": {},
     "output_type": "execute_result"
    }
   ],
   "source": [
    "def getDelta(df):\n",
    "    results = instanceComputation.findResults(df, 7)\n",
    "    return results['delta']\n",
    "getDelta(input_df)"
   ]
  },
  {
   "cell_type": "code",
   "execution_count": 101,
   "metadata": {},
   "outputs": [
    {
     "data": {
      "text/plain": [
       "'neutral'"
      ]
     },
     "execution_count": 101,
     "metadata": {},
     "output_type": "execute_result"
    }
   ],
   "source": [
    "def getResultCategory(df):\n",
    "    return instanceComputation.predictCategory(df, 7)\n",
    "getResultCategory(input_df)"
   ]
  },
  {
   "cell_type": "code",
   "execution_count": null,
   "metadata": {},
   "outputs": [],
   "source": []
  }
 ],
 "metadata": {
  "colab": {
   "collapsed_sections": [],
   "name": "singleInstance.ipynb",
   "provenance": []
  },
  "kernelspec": {
   "display_name": "Python 3",
   "language": "python",
   "name": "python3"
  },
  "language_info": {
   "codemirror_mode": {
    "name": "ipython",
    "version": 3
   },
   "file_extension": ".py",
   "mimetype": "text/x-python",
   "name": "python",
   "nbconvert_exporter": "python",
   "pygments_lexer": "ipython3",
   "version": "3.7.4"
  }
 },
 "nbformat": 4,
 "nbformat_minor": 1
}
