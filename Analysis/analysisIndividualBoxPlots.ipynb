{
  "nbformat": 4,
  "nbformat_minor": 0,
  "metadata": {
    "colab": {
      "name": "Analysis.ipynb",
      "provenance": [],
      "collapsed_sections": []
    },
    "kernelspec": {
      "name": "python3",
      "display_name": "Python 3"
    }
  },
  "cells": [
    {
      "cell_type": "code",
      "metadata": {
        "id": "qlUfebLnPblu",
        "colab_type": "code",
        "colab": {
          "base_uri": "https://localhost:8080/",
          "height": 118
        },
        "outputId": "5074acaf-5807-4b8b-b434-656fa9ba8385"
      },
      "source": [
        "from google.colab import drive\n",
        "drive.mount('/content/drive')"
      ],
      "execution_count": 3,
      "outputs": [
        {
          "output_type": "stream",
          "text": [
            "Go to this URL in a browser: https://accounts.google.com/o/oauth2/auth?client_id=947318989803-6bn6qk8qdgf4n4g3pfee6491hc0brc4i.apps.googleusercontent.com&redirect_uri=urn%3aietf%3awg%3aoauth%3a2.0%3aoob&response_type=code&scope=email%20https%3a%2f%2fwww.googleapis.com%2fauth%2fdocs.test%20https%3a%2f%2fwww.googleapis.com%2fauth%2fdrive%20https%3a%2f%2fwww.googleapis.com%2fauth%2fdrive.photos.readonly%20https%3a%2f%2fwww.googleapis.com%2fauth%2fpeopleapi.readonly\n",
            "\n",
            "Enter your authorization code:\n",
            "··········\n",
            "Mounted at /content/drive\n"
          ],
          "name": "stdout"
        }
      ]
    },
    {
      "cell_type": "code",
      "metadata": {
        "id": "N_zzXa8KFxhC",
        "colab_type": "code",
        "colab": {
          "base_uri": "https://localhost:8080/",
          "height": 1000
        },
        "outputId": "09e6ac48-b185-4f23-a8db-6c7483660226"
      },
      "source": [
        "test_df = pd.read_csv('drive/My Drive/The_Research/all_data_refined.csv', encoding='utf-8')\n",
        "df = test_df\n",
        "df.head()"
      ],
      "execution_count": 322,
      "outputs": [
        {
          "output_type": "execute_result",
          "data": {
            "text/html": [
              "<div>\n",
              "<style scoped>\n",
              "    .dataframe tbody tr th:only-of-type {\n",
              "        vertical-align: middle;\n",
              "    }\n",
              "\n",
              "    .dataframe tbody tr th {\n",
              "        vertical-align: top;\n",
              "    }\n",
              "\n",
              "    .dataframe thead th {\n",
              "        text-align: right;\n",
              "    }\n",
              "</style>\n",
              "<table border=\"1\" class=\"dataframe\">\n",
              "  <thead>\n",
              "    <tr style=\"text-align: right;\">\n",
              "      <th></th>\n",
              "      <th>id</th>\n",
              "      <th>language</th>\n",
              "      <th>main_img_url</th>\n",
              "      <th>published</th>\n",
              "      <th>text</th>\n",
              "      <th>title</th>\n",
              "      <th>type</th>\n",
              "      <th>uuid</th>\n",
              "      <th>word_count</th>\n",
              "      <th>average_word_count</th>\n",
              "      <th>exclamation_count</th>\n",
              "      <th>capital_count</th>\n",
              "      <th>question_count</th>\n",
              "      <th>negation_count</th>\n",
              "      <th>fpp_count</th>\n",
              "    </tr>\n",
              "  </thead>\n",
              "  <tbody>\n",
              "    <tr>\n",
              "      <th>0</th>\n",
              "      <td>3.0</td>\n",
              "      <td>english</td>\n",
              "      <td>https://static01.nyt.com/images/2016/11/23/us/23spectacle1/23spectacle1-master768.jpg</td>\n",
              "      <td>2016-11-23 00:45:32</td>\n",
              "      <td>They stood in line at Trump Tower, sometimes up to half an hour, handing over their cash for mementos of the president-elect: mini, gold-wrapped c...</td>\n",
              "      <td>At Donald Trumps Properties, a Showcase for a Brand and a President-Elect</td>\n",
              "      <td>real</td>\n",
              "      <td>f182f05dc3191ba4cb741e22f75fb43b</td>\n",
              "      <td>1082</td>\n",
              "      <td>12.729412</td>\n",
              "      <td>0</td>\n",
              "      <td>230</td>\n",
              "      <td>2</td>\n",
              "      <td>0</td>\n",
              "      <td>3</td>\n",
              "    </tr>\n",
              "    <tr>\n",
              "      <th>1</th>\n",
              "      <td>4.0</td>\n",
              "      <td>english</td>\n",
              "      <td>https://static01.nyt.com/images/2016/10/18/us/18fd-trumpfoundation/18fd-trumpfoundation-master675.jpg</td>\n",
              "      <td>2016-10-17 18:46:52</td>\n",
              "      <td>Donald J. Trump s foundation informed Attorney General Eric T. Schneiderman of New York that it has ceased soliciting donations in the state, afte...</td>\n",
              "      <td>Trump Foundation Tells New York It Has Stopped Soliciting After State Order</td>\n",
              "      <td>real</td>\n",
              "      <td>220b87845a5eb01509b66c8008bf3728</td>\n",
              "      <td>344</td>\n",
              "      <td>10.117647</td>\n",
              "      <td>0</td>\n",
              "      <td>67</td>\n",
              "      <td>0</td>\n",
              "      <td>0</td>\n",
              "      <td>0</td>\n",
              "    </tr>\n",
              "    <tr>\n",
              "      <th>2</th>\n",
              "      <td>5.0</td>\n",
              "      <td>english</td>\n",
              "      <td>https://static01.nyt.com/images/2016/11/12/us/12tower1/12tower1-master768.jpg</td>\n",
              "      <td>2016-11-12 02:08:39</td>\n",
              "      <td>President-elect Donald J. Trump won the White House with an outsiders populist promise to drain the swamp of Washington. Now, as he prepares to as...</td>\n",
              "      <td>Donald Trump Prepares for White House Move, but His Tower May Still Beckon</td>\n",
              "      <td>real</td>\n",
              "      <td>247e97e1da2dc67fcb31e20b84b2d960</td>\n",
              "      <td>1090</td>\n",
              "      <td>16.268657</td>\n",
              "      <td>1</td>\n",
              "      <td>189</td>\n",
              "      <td>1</td>\n",
              "      <td>0</td>\n",
              "      <td>2</td>\n",
              "    </tr>\n",
              "    <tr>\n",
              "      <th>3</th>\n",
              "      <td>6.0</td>\n",
              "      <td>english</td>\n",
              "      <td>https://static01.nyt.com/images/2016/10/21/business/21VISA2sub/21VISA2sub-master768.jpg</td>\n",
              "      <td>2016-10-20 22:09:04</td>\n",
              "      <td>An investment pitch for a new Texas hotel is trying to lure well-heeled Chinese by invoking Donald J. Trumps name and promising visas to the Unite...</td>\n",
              "      <td>Luring Chinese Investors With Trumps Name, and Little Else</td>\n",
              "      <td>real</td>\n",
              "      <td>e1f572512a36071cbca6056a31577389</td>\n",
              "      <td>1302</td>\n",
              "      <td>13.151515</td>\n",
              "      <td>0</td>\n",
              "      <td>283</td>\n",
              "      <td>0</td>\n",
              "      <td>0</td>\n",
              "      <td>3</td>\n",
              "    </tr>\n",
              "    <tr>\n",
              "      <th>4</th>\n",
              "      <td>7.0</td>\n",
              "      <td>english</td>\n",
              "      <td>https://static01.nyt.com/images/2016/11/21/us/21melania/21melania-master768.jpg</td>\n",
              "      <td>2016-11-21 01:42:23</td>\n",
              "      <td>President-elect Donald J. Trump s wife, Melania, and their 10-year-old son, Barron, will not immediately move to the White House after Mr. Trump t...</td>\n",
              "      <td>Melania and Barron Trump Wont Immediately Move to White House</td>\n",
              "      <td>real</td>\n",
              "      <td>584700e476e0d3c20731cb3d28e6ce2b</td>\n",
              "      <td>518</td>\n",
              "      <td>14.000000</td>\n",
              "      <td>0</td>\n",
              "      <td>115</td>\n",
              "      <td>0</td>\n",
              "      <td>0</td>\n",
              "      <td>0</td>\n",
              "    </tr>\n",
              "  </tbody>\n",
              "</table>\n",
              "</div>"
            ],
            "text/plain": [
              "    id language                                                                                           main_img_url            published  \\\n",
              "0  3.0  english                  https://static01.nyt.com/images/2016/11/23/us/23spectacle1/23spectacle1-master768.jpg  2016-11-23 00:45:32   \n",
              "1  4.0  english  https://static01.nyt.com/images/2016/10/18/us/18fd-trumpfoundation/18fd-trumpfoundation-master675.jpg  2016-10-17 18:46:52   \n",
              "2  5.0  english                          https://static01.nyt.com/images/2016/11/12/us/12tower1/12tower1-master768.jpg  2016-11-12 02:08:39   \n",
              "3  6.0  english                https://static01.nyt.com/images/2016/10/21/business/21VISA2sub/21VISA2sub-master768.jpg  2016-10-20 22:09:04   \n",
              "4  7.0  english                        https://static01.nyt.com/images/2016/11/21/us/21melania/21melania-master768.jpg  2016-11-21 01:42:23   \n",
              "\n",
              "                                                                                                                                                    text  \\\n",
              "0  They stood in line at Trump Tower, sometimes up to half an hour, handing over their cash for mementos of the president-elect: mini, gold-wrapped c...   \n",
              "1  Donald J. Trump s foundation informed Attorney General Eric T. Schneiderman of New York that it has ceased soliciting donations in the state, afte...   \n",
              "2  President-elect Donald J. Trump won the White House with an outsiders populist promise to drain the swamp of Washington. Now, as he prepares to as...   \n",
              "3  An investment pitch for a new Texas hotel is trying to lure well-heeled Chinese by invoking Donald J. Trumps name and promising visas to the Unite...   \n",
              "4  President-elect Donald J. Trump s wife, Melania, and their 10-year-old son, Barron, will not immediately move to the White House after Mr. Trump t...   \n",
              "\n",
              "                                                                         title  type                              uuid  word_count  average_word_count  exclamation_count  capital_count  \\\n",
              "0    At Donald Trumps Properties, a Showcase for a Brand and a President-Elect  real  f182f05dc3191ba4cb741e22f75fb43b        1082           12.729412                  0            230   \n",
              "1  Trump Foundation Tells New York It Has Stopped Soliciting After State Order  real  220b87845a5eb01509b66c8008bf3728         344           10.117647                  0             67   \n",
              "2   Donald Trump Prepares for White House Move, but His Tower May Still Beckon  real  247e97e1da2dc67fcb31e20b84b2d960        1090           16.268657                  1            189   \n",
              "3                   Luring Chinese Investors With Trumps Name, and Little Else  real  e1f572512a36071cbca6056a31577389        1302           13.151515                  0            283   \n",
              "4                Melania and Barron Trump Wont Immediately Move to White House  real  584700e476e0d3c20731cb3d28e6ce2b         518           14.000000                  0            115   \n",
              "\n",
              "   question_count  negation_count  fpp_count  \n",
              "0               2               0          3  \n",
              "1               0               0          0  \n",
              "2               1               0          2  \n",
              "3               0               0          3  \n",
              "4               0               0          0  "
            ]
          },
          "metadata": {
            "tags": []
          },
          "execution_count": 322
        }
      ]
    },
    {
      "cell_type": "code",
      "metadata": {
        "colab_type": "code",
        "outputId": "15ec7d26-0faf-4d57-9901-44e448348d3f",
        "id": "HBsd2PEHLwr8",
        "colab": {
          "base_uri": "https://localhost:8080/",
          "height": 645
        }
      },
      "source": [
        "\n",
        "fake_df = df[df['type']=='fake']\n",
        "temp1 = fake_df.filter(['uuid', 'word_count'])\n",
        "w_fake = list(temp1['word_count'])\n",
        "\n",
        "real_df = df[df['type']=='real']\n",
        "temp2 = real_df.filter(['uuid', 'word_count'])\n",
        "w_real = list(temp2['word_count'])\n",
        "\n",
        "\n",
        "plt.ylim(top = 2500)\n",
        "\n",
        "\n",
        "# Create a figure instance\n",
        "fig1 = plt.figure(1, figsize=(19, 16))\n",
        "\n",
        "# Create an axes instance\n",
        "ax1 = fig1.add_subplot(111)\n",
        "\n",
        "# Create the boxplot\n",
        "bp1 = ax1.boxplot(w_real)\n",
        "\n",
        "# Save the figure\n",
        "fig1.savefig('fig1.png', bbox_inches='tight')\n",
        "\n"
      ],
      "execution_count": 327,
      "outputs": [
        {
          "output_type": "stream",
          "text": [
            "/usr/local/lib/python3.6/dist-packages/ipykernel_launcher.py:18: MatplotlibDeprecationWarning: Adding an axes using the same arguments as a previous axes currently reuses the earlier instance.  In a future version, a new instance will always be created and returned.  Meanwhile, this warning can be suppressed, and the future behavior ensured, by passing a unique label to each axes instance.\n"
          ],
          "name": "stderr"
        },
        {
          "output_type": "display_data",
          "data": {
            "image/png": "[encoded data removed]",
            "text/plain": [
              "<Figure size 1080x720 with 1 Axes>"
            ]
          },
          "metadata": {
            "tags": []
          }
        }
      ]
    },
    {
      "cell_type": "code",
      "metadata": {
        "id": "_wDfSHO_2z-O",
        "colab_type": "code",
        "colab": {}
      },
      "source": [
        ""
      ],
      "execution_count": 0,
      "outputs": []
    }
  ]
}