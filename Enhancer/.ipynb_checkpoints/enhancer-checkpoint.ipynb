{
 "cells": [
  {
   "cell_type": "code",
   "execution_count": 2,
   "metadata": {},
   "outputs": [],
   "source": [
    "import pandas as pd\n",
    "import time\n",
    "from datetime import datetime\n",
    "from datetime import date\n",
    "from datetime import timedelta\n",
    "import matplotlib.pyplot as plt\n",
    "\n",
    "#read csv file\n",
    "def readCsvFile(path):\n",
    "    df = pd.read_csv(path, encoding='utf-8')\n",
    "    input_df = df.filter(['id', 'published', 'type', 'category'])\n",
    "    return input_df\n",
    "\n",
    "#cleaning published column\n",
    "def cleanPublished(input_df):\n",
    "    input_df = input_df[input_df['published'].notna()]\n",
    "    timestamps = []\n",
    "    for i in range(len(input_df['published'])):\n",
    "        if(\" \" in input_df.iloc[i]['published']):\n",
    "            d,t = input_df.iloc[i]['published'].split(\" \")\n",
    "            timestamps.append(d)  \n",
    "        else:\n",
    "            timestamps.append(input_df.iloc[i]['published']) \n",
    "    input_df['published'] = timestamps\n",
    "    return input_df\n",
    "\n",
    "# returns DF with articles within window\n",
    "def lookbackWindowDF(windowSize, currentDate, input_df):\n",
    "    current = datetime.strptime(currentDate,\"%Y-%m-%d\")\n",
    "    oldest = current - timedelta(days=windowSize)\n",
    "    ids, published, types, category = [],[],[],[]\n",
    "    output_df = pd.DataFrame()\n",
    "    for i in range(len(input_df['published'])):\n",
    "        sample = datetime.strptime(input_df.iloc[i]['published'],\"%Y-%m-%d\")\n",
    "        if(sample >= oldest and sample <= current):\n",
    "            ids.append(input_df.iloc[i]['id'])\n",
    "            published.append(input_df.iloc[i]['published'])\n",
    "            types.append(input_df.iloc[i]['type'])\n",
    "            category.append(input_df.iloc[i]['category'])\n",
    "    output_df['id']=ids\n",
    "    output_df['published']=published\n",
    "    output_df['type']=types\n",
    "    output_df['category']=category\n",
    "    return output_df\n",
    "\n",
    "# returns fraction of fake news in a particular category\n",
    "def fakenessOfCategoryDF(input_df,categoryName):\n",
    "    if(input_df.empty==True):\n",
    "        return 0.0\n",
    "    category_df = input_df[input_df['category']==categoryName]\n",
    "    if(category_df.empty==True):\n",
    "        return 0.0\n",
    "    fake_df = category_df[category_df['type']=='fake']\n",
    "    if(fake_df.empty == True):\n",
    "        return 0.0\n",
    "    categoryCount, temp1 = category_df.shape\n",
    "    fake_count, temp2 = fake_df.shape\n",
    "    return fake_count/categoryCount\n",
    "\n",
    "# returns the fraction of news which fall under particular category\n",
    "def categoryFractionDF(input_df, categoryName):\n",
    "    if(input_df.empty==True):\n",
    "        return 0.0\n",
    "    category_df = input_df[input_df['category']==categoryName]\n",
    "    if(category_df.empty == True):\n",
    "        return 0.0\n",
    "    categoryCount, temp1 = category_df.shape\n",
    "    totalCount, temp2 = input_df.shape\n",
    "    return categoryCount/totalCount\n"
   ]
  },
  {
   "cell_type": "code",
   "execution_count": 3,
   "metadata": {},
   "outputs": [],
   "source": [
    "def lookbackWindow(windowSize, currentDate, input_df, columnName):\n",
    "    current = datetime.strptime(currentDate,\"%Y-%m-%d\")\n",
    "    oldest = current - timedelta(days=windowSize)\n",
    "    trending = []\n",
    "    for i in range(len(input_df['published'])):\n",
    "        sample = datetime.strptime(input_df.iloc[i]['published'],\"%Y-%m-%d\")\n",
    "        if(sample >= oldest and sample <= current):\n",
    "            trending.append(input_df.iloc[i][columnName])\n",
    "    return trending\n",
    "\n",
    "# predecessor of fakenessOfCategoryDF method (for reference only)\n",
    "def fakenessOfCategory(windowSize, currentDate, input_df, categoryName):\n",
    "    current = datetime.strptime(currentDate,\"%Y-%m-%d\")\n",
    "    oldest = current - timedelta(days=windowSize)\n",
    "    fakenessFraction = 0\n",
    "    totalCount = 0\n",
    "    for i in range(len(input_df['published'])):\n",
    "        sample = datetime.strptime(input_df.iloc[i]['published'],\"%Y-%m-%d\")\n",
    "        if(sample >= oldest and sample < current and input_df.iloc[i]['category']==categoryName):\n",
    "            totalCount += 1\n",
    "            if(input_df.iloc[i]['type']=='fake'):\n",
    "                fakenessFraction += 1\n",
    "    if(totalCount==0):\n",
    "        return totalCount\n",
    "    return fakenessFraction/totalCount\n",
    "\n",
    "# for calculating fractions and identifying trending category.\n",
    "def categoryFraction(trending):\n",
    "    totalCount = len(trending)\n",
    "    fractionDict = {\n",
    "        'business':0,\n",
    "        'entertainment':0,\n",
    "        'politics':0,\n",
    "        'sport':0,\n",
    "        'tech':0,\n",
    "        'others':0\n",
    "    }\n",
    "    if(totalCount==0):\n",
    "        return fractionDict\n",
    "    for i in trending:\n",
    "        if i in fractionDict.keys():\n",
    "            fractionDict[i] += 1\n",
    "        else:\n",
    "            fractionDict['others'] += 1\n",
    "    for j in fractionDict.keys():\n",
    "        fractionDict[j] /= totalCount\n",
    "    return fractionDict\n",
    "\n",
    "def fakenessFraction(trending):\n",
    "    totalCount = len(trending)\n",
    "    fractionDict = {\n",
    "        'real':0,\n",
    "        'fake':0\n",
    "    }\n",
    "    if(totalCount==0):\n",
    "        return fractionDict\n",
    "    for i in trending:\n",
    "        fractionDict[i] += 1\n",
    "    for i in fractionDict.keys():\n",
    "        fractionDict[i] /= totalCount\n",
    "    return fractionDict\n"
   ]
  },
  {
   "cell_type": "code",
   "execution_count": 4,
   "metadata": {},
   "outputs": [],
   "source": [
    "#returns the oldest and latest date of publish among articles present in dataset\n",
    "def minmaxPublishedDate(input_df):\n",
    "    minDate = input_df['published'].min()\n",
    "    maxDate = input_df['published'].max()\n",
    "    return [minDate, maxDate]\n",
    "\n",
    "# Applying lookdownWindowDF on entire dataset for generating analysis\n",
    "def slidingWindow(windowSize,minDate,maxDate,input_df,categoryName):\n",
    "    minValue = datetime.strptime(minDate,\"%Y-%m-%d\")\n",
    "    currentDate = maxDate\n",
    "    current = datetime.strptime(currentDate,\"%Y-%m-%d\")\n",
    "    limit = minValue + timedelta(days=windowSize)\n",
    "    results = []\n",
    "    while(current>=minValue):\n",
    "        currentDate = datetime.strftime(current,\"%Y-%m-%d\")\n",
    "        sub_df = lookbackWindowDF(windowSize, currentDate, input_df)\n",
    "        fraction = categoryFractionDF(sub_df, categoryName)\n",
    "        results.append([fraction,fakenessOfCategoryDF(sub_df, categoryName)])\n",
    "        current = current - timedelta(days=windowSize)\n",
    "    return results"
   ]
  },
  {
   "cell_type": "code",
   "execution_count": 5,
   "metadata": {},
   "outputs": [],
   "source": [
    "#Plotting charts\n",
    "def drawPlot(X,Y,plotType,windowSize,categoryName):\n",
    "    fig, ax = plt.subplots()\n",
    "    if(plotType=='scatter'):\n",
    "        ax.scatter(X, Y, label='Trend')\n",
    "    else:\n",
    "        ax.plot(X, Y, label='Trend')\n",
    "    # Add some text for labels, title and custom x-axis labels, etc.\n",
    "    ax.set_xlabel('Trend Fraction')\n",
    "    ax.set_ylabel('Fake Fraction')\n",
    "    ax.set_title('Fake Fraction v/s Trend Fraction for '+categoryName+' category')\n",
    "    ax.legend()\n",
    "    fig.tight_layout()\n",
    "    #plt.show()\n",
    "    filename = categoryName+plotType+str(windowSize)+'.png'\n",
    "    fig.savefig(filename, dpi = 400)\n"
   ]
  },
  {
   "cell_type": "code",
   "execution_count": 13,
   "metadata": {},
   "outputs": [
    {
     "name": "stderr",
     "output_type": "stream",
     "text": [
      "/Users/virajdesai/opt/anaconda3/lib/python3.7/site-packages/ipykernel_launcher.py:24: SettingWithCopyWarning: \n",
      "A value is trying to be set on a copy of a slice from a DataFrame.\n",
      "Try using .loc[row_indexer,col_indexer] = value instead\n",
      "\n",
      "See the caveats in the documentation: http://pandas.pydata.org/pandas-docs/stable/user_guide/indexing.html#returning-a-view-versus-a-copy\n"
     ]
    },
    {
     "ename": "KeyboardInterrupt",
     "evalue": "",
     "output_type": "error",
     "traceback": [
      "\u001b[0;31m---------------------------------------------------------------------------\u001b[0m",
      "\u001b[0;31mKeyboardInterrupt\u001b[0m                         Traceback (most recent call last)",
      "\u001b[0;32m<ipython-input-13-554f40bd4892>\u001b[0m in \u001b[0;36m<module>\u001b[0;34m\u001b[0m\n\u001b[1;32m     10\u001b[0m \u001b[0;32mfor\u001b[0m \u001b[0mi\u001b[0m \u001b[0;32min\u001b[0m \u001b[0;34m[\u001b[0m\u001b[0;34m'business'\u001b[0m\u001b[0;34m,\u001b[0m \u001b[0;34m'politics'\u001b[0m\u001b[0;34m,\u001b[0m \u001b[0;34m'sport'\u001b[0m\u001b[0;34m,\u001b[0m \u001b[0;34m'entertainment'\u001b[0m\u001b[0;34m,\u001b[0m \u001b[0;34m'tech'\u001b[0m\u001b[0;34m]\u001b[0m\u001b[0;34m:\u001b[0m\u001b[0;34m\u001b[0m\u001b[0;34m\u001b[0m\u001b[0m\n\u001b[1;32m     11\u001b[0m     \u001b[0;32mfor\u001b[0m \u001b[0mj\u001b[0m \u001b[0;32min\u001b[0m \u001b[0;34m[\u001b[0m\u001b[0;36m3\u001b[0m\u001b[0;34m,\u001b[0m\u001b[0;36m5\u001b[0m\u001b[0;34m,\u001b[0m\u001b[0;36m7\u001b[0m\u001b[0;34m,\u001b[0m\u001b[0;36m9\u001b[0m\u001b[0;34m]\u001b[0m\u001b[0;34m:\u001b[0m\u001b[0;34m\u001b[0m\u001b[0;34m\u001b[0m\u001b[0m\n\u001b[0;32m---> 12\u001b[0;31m         \u001b[0mpoints\u001b[0m \u001b[0;34m=\u001b[0m \u001b[0mslidingWindow\u001b[0m\u001b[0;34m(\u001b[0m\u001b[0mj\u001b[0m\u001b[0;34m,\u001b[0m\u001b[0mminDate\u001b[0m\u001b[0;34m,\u001b[0m\u001b[0mmaxDate\u001b[0m\u001b[0;34m,\u001b[0m\u001b[0minput_df\u001b[0m\u001b[0;34m,\u001b[0m\u001b[0mi\u001b[0m\u001b[0;34m)\u001b[0m\u001b[0;34m\u001b[0m\u001b[0;34m\u001b[0m\u001b[0m\n\u001b[0m\u001b[1;32m     13\u001b[0m         \u001b[0mX\u001b[0m\u001b[0;34m,\u001b[0m\u001b[0mY\u001b[0m\u001b[0;34m=\u001b[0m\u001b[0;34m[\u001b[0m\u001b[0;34m]\u001b[0m\u001b[0;34m,\u001b[0m\u001b[0;34m[\u001b[0m\u001b[0;34m]\u001b[0m\u001b[0;34m\u001b[0m\u001b[0;34m\u001b[0m\u001b[0m\n\u001b[1;32m     14\u001b[0m         \u001b[0;32mfor\u001b[0m \u001b[0mpoint\u001b[0m \u001b[0;32min\u001b[0m \u001b[0mpoints\u001b[0m\u001b[0;34m:\u001b[0m\u001b[0;34m\u001b[0m\u001b[0;34m\u001b[0m\u001b[0m\n",
      "\u001b[0;32m<ipython-input-4-2093507b3926>\u001b[0m in \u001b[0;36mslidingWindow\u001b[0;34m(windowSize, minDate, maxDate, input_df, categoryName)\u001b[0m\n\u001b[1;32m     14\u001b[0m     \u001b[0;32mwhile\u001b[0m\u001b[0;34m(\u001b[0m\u001b[0mcurrent\u001b[0m\u001b[0;34m>=\u001b[0m\u001b[0mminValue\u001b[0m\u001b[0;34m)\u001b[0m\u001b[0;34m:\u001b[0m\u001b[0;34m\u001b[0m\u001b[0;34m\u001b[0m\u001b[0m\n\u001b[1;32m     15\u001b[0m         \u001b[0mcurrentDate\u001b[0m \u001b[0;34m=\u001b[0m \u001b[0mdatetime\u001b[0m\u001b[0;34m.\u001b[0m\u001b[0mstrftime\u001b[0m\u001b[0;34m(\u001b[0m\u001b[0mcurrent\u001b[0m\u001b[0;34m,\u001b[0m\u001b[0;34m\"%Y-%m-%d\"\u001b[0m\u001b[0;34m)\u001b[0m\u001b[0;34m\u001b[0m\u001b[0;34m\u001b[0m\u001b[0m\n\u001b[0;32m---> 16\u001b[0;31m         \u001b[0msub_df\u001b[0m \u001b[0;34m=\u001b[0m \u001b[0mlookbackWindowDF\u001b[0m\u001b[0;34m(\u001b[0m\u001b[0mwindowSize\u001b[0m\u001b[0;34m,\u001b[0m \u001b[0mcurrentDate\u001b[0m\u001b[0;34m,\u001b[0m \u001b[0minput_df\u001b[0m\u001b[0;34m)\u001b[0m\u001b[0;34m\u001b[0m\u001b[0;34m\u001b[0m\u001b[0m\n\u001b[0m\u001b[1;32m     17\u001b[0m         \u001b[0mfraction\u001b[0m \u001b[0;34m=\u001b[0m \u001b[0mcategoryFractionDF\u001b[0m\u001b[0;34m(\u001b[0m\u001b[0msub_df\u001b[0m\u001b[0;34m,\u001b[0m \u001b[0mcategoryName\u001b[0m\u001b[0;34m)\u001b[0m\u001b[0;34m\u001b[0m\u001b[0;34m\u001b[0m\u001b[0m\n\u001b[1;32m     18\u001b[0m         \u001b[0mresults\u001b[0m\u001b[0;34m.\u001b[0m\u001b[0mappend\u001b[0m\u001b[0;34m(\u001b[0m\u001b[0;34m[\u001b[0m\u001b[0mfraction\u001b[0m\u001b[0;34m,\u001b[0m\u001b[0mfakenessOfCategoryDF\u001b[0m\u001b[0;34m(\u001b[0m\u001b[0msub_df\u001b[0m\u001b[0;34m,\u001b[0m \u001b[0mcategoryName\u001b[0m\u001b[0;34m)\u001b[0m\u001b[0;34m]\u001b[0m\u001b[0;34m)\u001b[0m\u001b[0;34m\u001b[0m\u001b[0;34m\u001b[0m\u001b[0m\n",
      "\u001b[0;32m<ipython-input-2-d2932d0a64a8>\u001b[0m in \u001b[0;36mlookbackWindowDF\u001b[0;34m(windowSize, currentDate, input_df)\u001b[0m\n\u001b[1;32m     32\u001b[0m     \u001b[0moutput_df\u001b[0m \u001b[0;34m=\u001b[0m \u001b[0mpd\u001b[0m\u001b[0;34m.\u001b[0m\u001b[0mDataFrame\u001b[0m\u001b[0;34m(\u001b[0m\u001b[0;34m)\u001b[0m\u001b[0;34m\u001b[0m\u001b[0;34m\u001b[0m\u001b[0m\n\u001b[1;32m     33\u001b[0m     \u001b[0;32mfor\u001b[0m \u001b[0mi\u001b[0m \u001b[0;32min\u001b[0m \u001b[0mrange\u001b[0m\u001b[0;34m(\u001b[0m\u001b[0mlen\u001b[0m\u001b[0;34m(\u001b[0m\u001b[0minput_df\u001b[0m\u001b[0;34m[\u001b[0m\u001b[0;34m'published'\u001b[0m\u001b[0;34m]\u001b[0m\u001b[0;34m)\u001b[0m\u001b[0;34m)\u001b[0m\u001b[0;34m:\u001b[0m\u001b[0;34m\u001b[0m\u001b[0;34m\u001b[0m\u001b[0m\n\u001b[0;32m---> 34\u001b[0;31m         \u001b[0msample\u001b[0m \u001b[0;34m=\u001b[0m \u001b[0mdatetime\u001b[0m\u001b[0;34m.\u001b[0m\u001b[0mstrptime\u001b[0m\u001b[0;34m(\u001b[0m\u001b[0minput_df\u001b[0m\u001b[0;34m.\u001b[0m\u001b[0miloc\u001b[0m\u001b[0;34m[\u001b[0m\u001b[0mi\u001b[0m\u001b[0;34m]\u001b[0m\u001b[0;34m[\u001b[0m\u001b[0;34m'published'\u001b[0m\u001b[0;34m]\u001b[0m\u001b[0;34m,\u001b[0m\u001b[0;34m\"%Y-%m-%d\"\u001b[0m\u001b[0;34m)\u001b[0m\u001b[0;34m\u001b[0m\u001b[0;34m\u001b[0m\u001b[0m\n\u001b[0m\u001b[1;32m     35\u001b[0m         \u001b[0;32mif\u001b[0m\u001b[0;34m(\u001b[0m\u001b[0msample\u001b[0m \u001b[0;34m>=\u001b[0m \u001b[0moldest\u001b[0m \u001b[0;32mand\u001b[0m \u001b[0msample\u001b[0m \u001b[0;34m<=\u001b[0m \u001b[0mcurrent\u001b[0m\u001b[0;34m)\u001b[0m\u001b[0;34m:\u001b[0m\u001b[0;34m\u001b[0m\u001b[0;34m\u001b[0m\u001b[0m\n\u001b[1;32m     36\u001b[0m             \u001b[0mids\u001b[0m\u001b[0;34m.\u001b[0m\u001b[0mappend\u001b[0m\u001b[0;34m(\u001b[0m\u001b[0minput_df\u001b[0m\u001b[0;34m.\u001b[0m\u001b[0miloc\u001b[0m\u001b[0;34m[\u001b[0m\u001b[0mi\u001b[0m\u001b[0;34m]\u001b[0m\u001b[0;34m[\u001b[0m\u001b[0;34m'id'\u001b[0m\u001b[0;34m]\u001b[0m\u001b[0;34m)\u001b[0m\u001b[0;34m\u001b[0m\u001b[0;34m\u001b[0m\u001b[0m\n",
      "\u001b[0;32m~/opt/anaconda3/lib/python3.7/site-packages/pandas/core/indexing.py\u001b[0m in \u001b[0;36m__getitem__\u001b[0;34m(self, key)\u001b[0m\n\u001b[1;32m   1422\u001b[0m \u001b[0;34m\u001b[0m\u001b[0m\n\u001b[1;32m   1423\u001b[0m             \u001b[0mmaybe_callable\u001b[0m \u001b[0;34m=\u001b[0m \u001b[0mcom\u001b[0m\u001b[0;34m.\u001b[0m\u001b[0mapply_if_callable\u001b[0m\u001b[0;34m(\u001b[0m\u001b[0mkey\u001b[0m\u001b[0;34m,\u001b[0m \u001b[0mself\u001b[0m\u001b[0;34m.\u001b[0m\u001b[0mobj\u001b[0m\u001b[0;34m)\u001b[0m\u001b[0;34m\u001b[0m\u001b[0;34m\u001b[0m\u001b[0m\n\u001b[0;32m-> 1424\u001b[0;31m             \u001b[0;32mreturn\u001b[0m \u001b[0mself\u001b[0m\u001b[0;34m.\u001b[0m\u001b[0m_getitem_axis\u001b[0m\u001b[0;34m(\u001b[0m\u001b[0mmaybe_callable\u001b[0m\u001b[0;34m,\u001b[0m \u001b[0maxis\u001b[0m\u001b[0;34m=\u001b[0m\u001b[0maxis\u001b[0m\u001b[0;34m)\u001b[0m\u001b[0;34m\u001b[0m\u001b[0;34m\u001b[0m\u001b[0m\n\u001b[0m\u001b[1;32m   1425\u001b[0m \u001b[0;34m\u001b[0m\u001b[0m\n\u001b[1;32m   1426\u001b[0m     \u001b[0;32mdef\u001b[0m \u001b[0m_is_scalar_access\u001b[0m\u001b[0;34m(\u001b[0m\u001b[0mself\u001b[0m\u001b[0;34m,\u001b[0m \u001b[0mkey\u001b[0m\u001b[0;34m:\u001b[0m \u001b[0mTuple\u001b[0m\u001b[0;34m)\u001b[0m\u001b[0;34m:\u001b[0m\u001b[0;34m\u001b[0m\u001b[0;34m\u001b[0m\u001b[0m\n",
      "\u001b[0;32m~/opt/anaconda3/lib/python3.7/site-packages/pandas/core/indexing.py\u001b[0m in \u001b[0;36m_getitem_axis\u001b[0;34m(self, key, axis)\u001b[0m\n\u001b[1;32m   2140\u001b[0m             \u001b[0mkey\u001b[0m \u001b[0;34m=\u001b[0m \u001b[0mnp\u001b[0m\u001b[0;34m.\u001b[0m\u001b[0masarray\u001b[0m\u001b[0;34m(\u001b[0m\u001b[0mkey\u001b[0m\u001b[0;34m)\u001b[0m\u001b[0;34m\u001b[0m\u001b[0;34m\u001b[0m\u001b[0m\n\u001b[1;32m   2141\u001b[0m \u001b[0;34m\u001b[0m\u001b[0m\n\u001b[0;32m-> 2142\u001b[0;31m         \u001b[0;32mif\u001b[0m \u001b[0mcom\u001b[0m\u001b[0;34m.\u001b[0m\u001b[0mis_bool_indexer\u001b[0m\u001b[0;34m(\u001b[0m\u001b[0mkey\u001b[0m\u001b[0;34m)\u001b[0m\u001b[0;34m:\u001b[0m\u001b[0;34m\u001b[0m\u001b[0;34m\u001b[0m\u001b[0m\n\u001b[0m\u001b[1;32m   2143\u001b[0m             \u001b[0mself\u001b[0m\u001b[0;34m.\u001b[0m\u001b[0m_validate_key\u001b[0m\u001b[0;34m(\u001b[0m\u001b[0mkey\u001b[0m\u001b[0;34m,\u001b[0m \u001b[0maxis\u001b[0m\u001b[0;34m)\u001b[0m\u001b[0;34m\u001b[0m\u001b[0;34m\u001b[0m\u001b[0m\n\u001b[1;32m   2144\u001b[0m             \u001b[0;32mreturn\u001b[0m \u001b[0mself\u001b[0m\u001b[0;34m.\u001b[0m\u001b[0m_getbool_axis\u001b[0m\u001b[0;34m(\u001b[0m\u001b[0mkey\u001b[0m\u001b[0;34m,\u001b[0m \u001b[0maxis\u001b[0m\u001b[0;34m=\u001b[0m\u001b[0maxis\u001b[0m\u001b[0;34m)\u001b[0m\u001b[0;34m\u001b[0m\u001b[0;34m\u001b[0m\u001b[0m\n",
      "\u001b[0;32m~/opt/anaconda3/lib/python3.7/site-packages/pandas/core/common.py\u001b[0m in \u001b[0;36mis_bool_indexer\u001b[0;34m(key)\u001b[0m\n\u001b[1;32m    121\u001b[0m     \u001b[0mna_msg\u001b[0m \u001b[0;34m=\u001b[0m \u001b[0;34m\"cannot index with vector containing NA / NaN values\"\u001b[0m\u001b[0;34m\u001b[0m\u001b[0;34m\u001b[0m\u001b[0m\n\u001b[1;32m    122\u001b[0m     if isinstance(key, (ABCSeries, np.ndarray, ABCIndex)) or (\n\u001b[0;32m--> 123\u001b[0;31m         \u001b[0mis_array_like\u001b[0m\u001b[0;34m(\u001b[0m\u001b[0mkey\u001b[0m\u001b[0;34m)\u001b[0m \u001b[0;32mand\u001b[0m \u001b[0mis_extension_array_dtype\u001b[0m\u001b[0;34m(\u001b[0m\u001b[0mkey\u001b[0m\u001b[0;34m.\u001b[0m\u001b[0mdtype\u001b[0m\u001b[0;34m)\u001b[0m\u001b[0;34m\u001b[0m\u001b[0;34m\u001b[0m\u001b[0m\n\u001b[0m\u001b[1;32m    124\u001b[0m     ):\n\u001b[1;32m    125\u001b[0m         \u001b[0;32mif\u001b[0m \u001b[0mkey\u001b[0m\u001b[0;34m.\u001b[0m\u001b[0mdtype\u001b[0m \u001b[0;34m==\u001b[0m \u001b[0mnp\u001b[0m\u001b[0;34m.\u001b[0m\u001b[0mobject_\u001b[0m\u001b[0;34m:\u001b[0m\u001b[0;34m\u001b[0m\u001b[0;34m\u001b[0m\u001b[0m\n",
      "\u001b[0;31mKeyboardInterrupt\u001b[0m: "
     ]
    }
   ],
   "source": [
    "path = '../Datasets/Working_Data/all_data_refined_v2.csv'\n",
    "input_df = readCsvFile(path)\n",
    "input_df = cleanPublished(input_df)\n",
    "currentDate = \"2016-11-15\"\n",
    "windowSize = 7\n",
    "categoryName = \"politics\"\n",
    "minDate,maxDate=minmaxPublishedDate(input_df)\n",
    "correlations = dict()\n",
    "\n",
    "for i in ['business', 'politics', 'sport', 'entertainment', 'tech']:\n",
    "    for j in [3,5,7,9]:\n",
    "        points = slidingWindow(j,minDate,maxDate,input_df,i)\n",
    "        X,Y=[],[]\n",
    "        for point in points:\n",
    "            X.append(point[0])\n",
    "            Y.append(point[1])\n",
    "        correlation_df = pd.DataFrame()\n",
    "        correlation_df['fakeFraction']=X\n",
    "        correlation_df['trendFraction']=Y\n",
    "        correlations[i+str(j)]=correlation_df['fakeFraction'].corr(correlation_df['trendFraction'])\n"
   ]
  },
  {
   "cell_type": "code",
   "execution_count": 14,
   "metadata": {},
   "outputs": [
    {
     "data": {
      "text/plain": [
       "{'business3': 0.0818714316665238,\n",
       " 'business5': 0.02118969764912603,\n",
       " 'business7': 0.20295010007567366,\n",
       " 'business9': 0.36713817846806684,\n",
       " 'politics3': -0.9377701488040342,\n",
       " 'politics5': -0.9411239466460215,\n",
       " 'politics7': -0.9432080717623358,\n",
       " 'politics9': -0.940521447831278,\n",
       " 'sport3': 0.7829661544097727,\n",
       " 'sport5': 0.7953040175524619,\n",
       " 'sport7': 0.9639752625271658,\n",
       " 'sport9': 0.9026004789053418,\n",
       " 'entertainment3': -0.08143533063932583,\n",
       " 'entertainment5': 0.17612041772950768,\n",
       " 'entertainment7': -0.2477528802333515,\n",
       " 'entertainment9': -0.56528494168596}"
      ]
     },
     "execution_count": 14,
     "metadata": {},
     "output_type": "execute_result"
    }
   ],
   "source": [
    "correlations"
   ]
  },
  {
   "cell_type": "code",
   "execution_count": 15,
   "metadata": {},
   "outputs": [
    {
     "name": "stdout",
     "output_type": "stream",
     "text": [
      "0.8865562057724649\n",
      "0.9010388712159485\n",
      "0.825853803983408\n",
      "0.8612431733963276\n"
     ]
    }
   ],
   "source": [
    "for i in [3,5,7,9]:\n",
    "    points = slidingWindow(i,minDate,maxDate,input_df,'tech')\n",
    "    X,Y=[],[]\n",
    "    for point in points:\n",
    "        X.append(point[0])\n",
    "        Y.append(point[1])\n",
    "    correlation_df = pd.DataFrame()\n",
    "    correlation_df['fakeFraction']=X\n",
    "    correlation_df['trendFraction']=Y\n",
    "    print(correlation_df['fakeFraction'].corr(correlation_df['trendFraction']))"
   ]
  },
  {
   "cell_type": "code",
   "execution_count": 6,
   "metadata": {},
   "outputs": [],
   "source": [
    "correlation_df = pd.DataFrame()\n"
   ]
  },
  {
   "cell_type": "code",
   "execution_count": 8,
   "metadata": {},
   "outputs": [],
   "source": [
    "correlation_df['fakeFraction'] = [0.2727272727272727, 0.189873417721519, 0.1935483870967742, 0.16188524590163936, 0.13682092555331993, 0.15155807365439095, 0.1392904073587385, 0.10881652104845115, 0.10244648318042814, 0.11143552311435523, 0.12171561051004637, 0.11321206318812829, 0.1419120079391333, 0.06818181818181818, 0.07079646017699115, 0.10256410256410256, 0.060240963855421686, 0.041666666666666664, 0.08196721311475409, 0.203125, 0.17543859649122806, 0.09090909090909091]\n",
    "correlation_df['trendFraction'] = [0.0, 0.0, 0.803030303030303, 0.8734177215189873, 0.7794117647058824, 0.8130841121495327, 0.7641509433962265, 0.8029197080291971, 0.9626865671641791, 0.9650655021834061, 0.9746031746031746, 0.9915433403805497, 0.9906759906759907, 0.0, 0.0, 0.0, 0.0, 0.0, 0.0, 0.0, 0.0, 0.0]"
   ]
  },
  {
   "cell_type": "code",
   "execution_count": 12,
   "metadata": {},
   "outputs": [
    {
     "data": {
      "text/plain": [
       "0.0818714316665238"
      ]
     },
     "execution_count": 12,
     "metadata": {},
     "output_type": "execute_result"
    }
   ],
   "source": [
    "correlation_df['fakeFraction'].corr(correlation_df['trendFraction'])"
   ]
  },
  {
   "cell_type": "code",
   "execution_count": 11,
   "metadata": {},
   "outputs": [
    {
     "ename": "NameError",
     "evalue": "name 'correlation' is not defined",
     "output_type": "error",
     "traceback": [
      "\u001b[0;31m---------------------------------------------------------------------------\u001b[0m",
      "\u001b[0;31mNameError\u001b[0m                                 Traceback (most recent call last)",
      "\u001b[0;32m<ipython-input-11-53a481936eaa>\u001b[0m in \u001b[0;36m<module>\u001b[0;34m\u001b[0m\n\u001b[0;32m----> 1\u001b[0;31m \u001b[0mcorrelation\u001b[0m\u001b[0;34m\u001b[0m\u001b[0;34m\u001b[0m\u001b[0m\n\u001b[0m",
      "\u001b[0;31mNameError\u001b[0m: name 'correlation' is not defined"
     ]
    }
   ],
   "source": []
  },
  {
   "cell_type": "code",
   "execution_count": null,
   "metadata": {},
   "outputs": [],
   "source": []
  }
 ],
 "metadata": {
  "kernelspec": {
   "display_name": "Python 3",
   "language": "python",
   "name": "python3"
  },
  "language_info": {
   "codemirror_mode": {
    "name": "ipython",
    "version": 3
   },
   "file_extension": ".py",
   "mimetype": "text/x-python",
   "name": "python",
   "nbconvert_exporter": "python",
   "pygments_lexer": "ipython3",
   "version": "3.7.4"
  }
 },
 "nbformat": 4,
 "nbformat_minor": 2
}
