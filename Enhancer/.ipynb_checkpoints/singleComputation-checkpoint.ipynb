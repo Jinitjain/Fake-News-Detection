{
 "cells": [
  {
   "cell_type": "code",
   "execution_count": 37,
   "metadata": {},
   "outputs": [],
   "source": [
    "import enhancer"
   ]
  },
  {
   "cell_type": "code",
   "execution_count": 38,
   "metadata": {},
   "outputs": [
    {
     "name": "stdout",
     "output_type": "stream",
     "text": [
      "    id            published  type  category\n",
      "0  7.0  2016-11-21 01:42:23  real  politics\n"
     ]
    }
   ],
   "source": [
    "path1 = '../Datasets/Working_Data/all_data_refined_v2.csv'\n",
    "path2 = '../Datasets/Working_Data/sample.csv'\n",
    "input_df = enhancer.readCsvFile(path1)\n",
    "instance_df = enhancer.readCsvFile(path2)\n",
    "print(instance_df)"
   ]
  },
  {
   "cell_type": "code",
   "execution_count": 39,
   "metadata": {},
   "outputs": [
    {
     "name": "stderr",
     "output_type": "stream",
     "text": [
      "/Users/virajdesai/Fake-News-Detection/Enhancer/enhancer.py:24: SettingWithCopyWarning: \n",
      "A value is trying to be set on a copy of a slice from a DataFrame.\n",
      "Try using .loc[row_indexer,col_indexer] = value instead\n",
      "\n",
      "See the caveats in the documentation: http://pandas.pydata.org/pandas-docs/stable/user_guide/indexing.html#returning-a-view-versus-a-copy\n",
      "  input_df['published'] = timestamps\n"
     ]
    },
    {
     "data": {
      "text/html": [
       "<div>\n",
       "<style scoped>\n",
       "    .dataframe tbody tr th:only-of-type {\n",
       "        vertical-align: middle;\n",
       "    }\n",
       "\n",
       "    .dataframe tbody tr th {\n",
       "        vertical-align: top;\n",
       "    }\n",
       "\n",
       "    .dataframe thead th {\n",
       "        text-align: right;\n",
       "    }\n",
       "</style>\n",
       "<table border=\"1\" class=\"dataframe\">\n",
       "  <thead>\n",
       "    <tr style=\"text-align: right;\">\n",
       "      <th></th>\n",
       "      <th>id</th>\n",
       "      <th>published</th>\n",
       "      <th>type</th>\n",
       "      <th>category</th>\n",
       "    </tr>\n",
       "  </thead>\n",
       "  <tbody>\n",
       "    <tr>\n",
       "      <td>0</td>\n",
       "      <td>7.0</td>\n",
       "      <td>2016-11-21</td>\n",
       "      <td>real</td>\n",
       "      <td>politics</td>\n",
       "    </tr>\n",
       "    <tr>\n",
       "      <td>1</td>\n",
       "      <td>8.0</td>\n",
       "      <td>2016-11-18</td>\n",
       "      <td>real</td>\n",
       "      <td>politics</td>\n",
       "    </tr>\n",
       "    <tr>\n",
       "      <td>2</td>\n",
       "      <td>10.0</td>\n",
       "      <td>2016-11-17</td>\n",
       "      <td>real</td>\n",
       "      <td>entertainment</td>\n",
       "    </tr>\n",
       "    <tr>\n",
       "      <td>3</td>\n",
       "      <td>12.0</td>\n",
       "      <td>2016-11-21</td>\n",
       "      <td>real</td>\n",
       "      <td>business</td>\n",
       "    </tr>\n",
       "    <tr>\n",
       "      <td>4</td>\n",
       "      <td>24.0</td>\n",
       "      <td>2016-11-15</td>\n",
       "      <td>real</td>\n",
       "      <td>entertainment</td>\n",
       "    </tr>\n",
       "    <tr>\n",
       "      <td>...</td>\n",
       "      <td>...</td>\n",
       "      <td>...</td>\n",
       "      <td>...</td>\n",
       "      <td>...</td>\n",
       "    </tr>\n",
       "    <tr>\n",
       "      <td>1180</td>\n",
       "      <td>NaN</td>\n",
       "      <td>2016-11-18</td>\n",
       "      <td>fake</td>\n",
       "      <td>politics</td>\n",
       "    </tr>\n",
       "    <tr>\n",
       "      <td>1181</td>\n",
       "      <td>NaN</td>\n",
       "      <td>2016-11-21</td>\n",
       "      <td>fake</td>\n",
       "      <td>tech</td>\n",
       "    </tr>\n",
       "    <tr>\n",
       "      <td>1182</td>\n",
       "      <td>NaN</td>\n",
       "      <td>2016-11-21</td>\n",
       "      <td>fake</td>\n",
       "      <td>politics</td>\n",
       "    </tr>\n",
       "    <tr>\n",
       "      <td>1183</td>\n",
       "      <td>NaN</td>\n",
       "      <td>2016-11-21</td>\n",
       "      <td>fake</td>\n",
       "      <td>tech</td>\n",
       "    </tr>\n",
       "    <tr>\n",
       "      <td>1184</td>\n",
       "      <td>NaN</td>\n",
       "      <td>2016-11-21</td>\n",
       "      <td>fake</td>\n",
       "      <td>tech</td>\n",
       "    </tr>\n",
       "  </tbody>\n",
       "</table>\n",
       "<p>1185 rows × 4 columns</p>\n",
       "</div>"
      ],
      "text/plain": [
       "        id   published  type       category\n",
       "0      7.0  2016-11-21  real       politics\n",
       "1      8.0  2016-11-18  real       politics\n",
       "2     10.0  2016-11-17  real  entertainment\n",
       "3     12.0  2016-11-21  real       business\n",
       "4     24.0  2016-11-15  real  entertainment\n",
       "...    ...         ...   ...            ...\n",
       "1180   NaN  2016-11-18  fake       politics\n",
       "1181   NaN  2016-11-21  fake           tech\n",
       "1182   NaN  2016-11-21  fake       politics\n",
       "1183   NaN  2016-11-21  fake           tech\n",
       "1184   NaN  2016-11-21  fake           tech\n",
       "\n",
       "[1185 rows x 4 columns]"
      ]
     },
     "execution_count": 39,
     "metadata": {},
     "output_type": "execute_result"
    }
   ],
   "source": [
    "input_df = enhancer.cleanPublished(input_df)\n",
    "instance_df = enhancer.cleanPublished(instance_df)\n",
    "currentDate = instance_df.iloc[0]['published']\n",
    "windowSize = 7\n",
    "categoryName = instance_df.iloc[0]['category']\n",
    "actual_df = enhancer.lookbackWindowDF(windowSize, currentDate, input_df)\n",
    "actual_df"
   ]
  },
  {
   "cell_type": "code",
   "execution_count": 40,
   "metadata": {},
   "outputs": [],
   "source": [
    "fakeFraction = enhancer.fakenessOfCategoryDF(actual_df,categoryName)\n",
    "trendFraction = enhancer.categoryFractionDF(actual_df, categoryName)"
   ]
  },
  {
   "cell_type": "code",
   "execution_count": 61,
   "metadata": {},
   "outputs": [
    {
     "data": {
      "text/plain": [
       "0.32742616033755273"
      ]
     },
     "execution_count": 61,
     "metadata": {},
     "output_type": "execute_result"
    }
   ],
   "source": [
    "trendFraction"
   ]
  },
  {
   "cell_type": "code",
   "execution_count": 42,
   "metadata": {},
   "outputs": [],
   "source": [
    "correlationMatrix = {\n",
    "    'business':{3:0.082, 5:0.021, 7:0.203, 9:0.367},\n",
    "    'politics':{3:-0.938, 5:-0.941, 7:-0.943, 9:-0.941},\n",
    "    'entertainment':{3:-0.081, 5:0.176, 7:-0.248, 9:-0.565},\n",
    "    'sport':{3:0.783, 5:0.795, 7:0.964, 9:0.903},\n",
    "    'tech':{3:0.887, 5:0.901, 7:0.826, 9:0.861}\n",
    "}"
   ]
  },
  {
   "cell_type": "code",
   "execution_count": 56,
   "metadata": {},
   "outputs": [
    {
     "data": {
      "text/plain": [
       "-0.943"
      ]
     },
     "execution_count": 56,
     "metadata": {},
     "output_type": "execute_result"
    }
   ],
   "source": [
    "correlationMatrix['politics'][7]"
   ]
  },
  {
   "cell_type": "code",
   "execution_count": 82,
   "metadata": {},
   "outputs": [],
   "source": [
    "def calculateDelta(actual_df, windowSize, correlationMatrix, trendThreshold):\n",
    "    trendFraction = enhancer.categoryFractionDF(actual_df, categoryName)\n",
    "    if(trendFraction<trendThreshold):\n",
    "        return 0.0\n",
    "    correlation = correlationMatrix[actual_df.iloc[0]['category']][windowSize]\n",
    "    if(correlation>=0.2):\n",
    "        delta = trendFraction*(correlation-0.3)/5\n",
    "    elif(correlation<=-0.3):\n",
    "        delta = trendFraction*(correlation+0.3)/5\n",
    "    else:\n",
    "        delta = 0.0\n",
    "    return delta"
   ]
  },
  {
   "cell_type": "code",
   "execution_count": 86,
   "metadata": {},
   "outputs": [],
   "source": [
    "trendThreshold = 0.3\n",
    "delta = calculateDelta(actual_df, windowSize, correlationMatrix, trendThreshold)"
   ]
  },
  {
   "cell_type": "code",
   "execution_count": 87,
   "metadata": {},
   "outputs": [],
   "source": [
    "originalRanges={\n",
    "    'mostlyFake':[0.0,0.20],\n",
    "    'likelyFake':[0.20,0.40],\n",
    "    'neutral':[0.40,0.60],\n",
    "    'likelyReal':[0.60,0.80],\n",
    "    'mostlyReal':[0.80,1.00]\n",
    "}"
   ]
  },
  {
   "cell_type": "code",
   "execution_count": 88,
   "metadata": {},
   "outputs": [
    {
     "data": {
      "text/plain": [
       "{'mostlyFake': [0.0, 0.15789299578059074],\n",
       " 'likelyFake': [0.15789299578059074, 0.35789299578059075],\n",
       " 'neutral': [0.35789299578059075, 0.5578929957805907],\n",
       " 'likelyReal': [0.5578929957805907, 0.7578929957805908],\n",
       " 'mostlyReal': [0.7578929957805908, 1.0]}"
      ]
     },
     "execution_count": 88,
     "metadata": {},
     "output_type": "execute_result"
    }
   ],
   "source": [
    "def newRanges(originalRanges, delta):\n",
    "    if(delta==0.0):\n",
    "        return originalRanges\n",
    "    for i in originalRanges.keys():\n",
    "        if i == 'mostlyFake':\n",
    "            originalRanges[i][1]+=delta\n",
    "        elif i == 'mostlyReal':\n",
    "            originalRanges[i][0]+=delta\n",
    "        else:\n",
    "            originalRanges[i][0]+=delta\n",
    "            originalRanges[i][1]+=delta\n",
    "    return originalRanges\n",
    "newRanges(originalRanges,delta)"
   ]
  },
  {
   "cell_type": "code",
   "execution_count": null,
   "metadata": {},
   "outputs": [],
   "source": []
  }
 ],
 "metadata": {
  "kernelspec": {
   "display_name": "Python 3",
   "language": "python",
   "name": "python3"
  },
  "language_info": {
   "codemirror_mode": {
    "name": "ipython",
    "version": 3
   },
   "file_extension": ".py",
   "mimetype": "text/x-python",
   "name": "python",
   "nbconvert_exporter": "python",
   "pygments_lexer": "ipython3",
   "version": "3.7.4"
  }
 },
 "nbformat": 4,
 "nbformat_minor": 2
}
