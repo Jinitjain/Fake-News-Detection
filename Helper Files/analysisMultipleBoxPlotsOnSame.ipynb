{
  "nbformat": 4,
  "nbformat_minor": 0,
  "metadata": {
    "colab": {
      "name": "Analysis.ipynb",
      "provenance": [],
      "collapsed_sections": []
    },
    "kernelspec": {
      "name": "python3",
      "display_name": "Python 3"
    }
  },
  "cells": [
    {
      "cell_type": "code",
      "metadata": {
        "id": "qlUfebLnPblu",
        "colab_type": "code",
        "colab": {
          "base_uri": "https://localhost:8080/",
          "height": 118
        },
        "outputId": "5074acaf-5807-4b8b-b434-656fa9ba8385"
      },
      "source": [
        "from google.colab import drive\n",
        "drive.mount('/content/drive')"
      ],
      "execution_count": 3,
      "outputs": [
        {
          "output_type": "stream",
          "text": [
            "Go to this URL in a browser: https://accounts.google.com/o/oauth2/auth?client_id=947318989803-6bn6qk8qdgf4n4g3pfee6491hc0brc4i.apps.googleusercontent.com&redirect_uri=urn%3aietf%3awg%3aoauth%3a2.0%3aoob&response_type=code&scope=email%20https%3a%2f%2fwww.googleapis.com%2fauth%2fdocs.test%20https%3a%2f%2fwww.googleapis.com%2fauth%2fdrive%20https%3a%2f%2fwww.googleapis.com%2fauth%2fdrive.photos.readonly%20https%3a%2f%2fwww.googleapis.com%2fauth%2fpeopleapi.readonly\n",
            "\n",
            "Enter your authorization code:\n",
            "··········\n",
            "Mounted at /content/drive\n"
          ],
          "name": "stdout"
        }
      ]
    },
    {
      "cell_type": "code",
      "metadata": {
        "id": "N_zzXa8KFxhC",
        "colab_type": "code",
        "colab": {
          "base_uri": "https://localhost:8080/",
          "height": 191
        },
        "outputId": "762e96ce-ee65-4e86-e133-23ad215ece9f"
      },
      "source": [
        "import seaborn as sns\n",
        "\n",
        "test_df = pd.read_csv('drive/My Drive/The_Research/all_data_refined.csv', encoding='utf-8')\n",
        "df = test_df\n",
        "\n",
        "df['word_count'] = ((df['word_count']- min(df['word_count']))/(max(df['word_count']) - min(df['word_count'])))\n",
        "df['exclamation_count'] = ((df['exclamation_count']- min(df['exclamation_count']))/(max(df['exclamation_count']) - min(df['exclamation_count'])))\n",
        "df['average_word_count'] = ((df['average_word_count']- min(df['average_word_count']))/(max(df['average_word_count']) - min(df['average_word_count'])))\n",
        "df['capital_count'] = ((df['capital_count']- min(df['capital_count']))/(max(df['capital_count']) - min(df['capital_count'])))\n",
        "df['question_count'] = ((df['question_count']- min(df['question_count']))/(max(df['question_count']) - min(df['question_count'])))\n",
        "df['negation_count'] = ((df['negation_count']- min(df['negation_count']))/(max(df['negation_count']) - min(df['negation_count'])))\n",
        "df['fpp_count'] = ((df['fpp_count']- min(df['fpp_count']))/(max(df['fpp_count']) - min(df['fpp_count'])))\n",
        "df['id'] = ((df['id']- min(df['id']))/(max(df['id']) - min(df['id'])))\n",
        "\n",
        "df = df.filter(['type', 'word_count', 'exclamation_count', 'average_word_count', 'capital_count', 'question_count', 'negation_count', 'fpp_count'])\n",
        "\n",
        "df.head()"
      ],
      "execution_count": 286,
      "outputs": [
        {
          "output_type": "execute_result",
          "data": {
            "text/html": [
              "<div>\n",
              "<style scoped>\n",
              "    .dataframe tbody tr th:only-of-type {\n",
              "        vertical-align: middle;\n",
              "    }\n",
              "\n",
              "    .dataframe tbody tr th {\n",
              "        vertical-align: top;\n",
              "    }\n",
              "\n",
              "    .dataframe thead th {\n",
              "        text-align: right;\n",
              "    }\n",
              "</style>\n",
              "<table border=\"1\" class=\"dataframe\">\n",
              "  <thead>\n",
              "    <tr style=\"text-align: right;\">\n",
              "      <th></th>\n",
              "      <th>type</th>\n",
              "      <th>word_count</th>\n",
              "      <th>exclamation_count</th>\n",
              "      <th>average_word_count</th>\n",
              "      <th>capital_count</th>\n",
              "      <th>question_count</th>\n",
              "      <th>negation_count</th>\n",
              "      <th>fpp_count</th>\n",
              "    </tr>\n",
              "  </thead>\n",
              "  <tbody>\n",
              "    <tr>\n",
              "      <th>0</th>\n",
              "      <td>real</td>\n",
              "      <td>0.044753</td>\n",
              "      <td>0.000000</td>\n",
              "      <td>0.076992</td>\n",
              "      <td>0.015816</td>\n",
              "      <td>0.012579</td>\n",
              "      <td>0.0</td>\n",
              "      <td>0.008043</td>\n",
              "    </tr>\n",
              "    <tr>\n",
              "      <th>1</th>\n",
              "      <td>real</td>\n",
              "      <td>0.014228</td>\n",
              "      <td>0.000000</td>\n",
              "      <td>0.061195</td>\n",
              "      <td>0.004607</td>\n",
              "      <td>0.000000</td>\n",
              "      <td>0.0</td>\n",
              "      <td>0.000000</td>\n",
              "    </tr>\n",
              "    <tr>\n",
              "      <th>2</th>\n",
              "      <td>real</td>\n",
              "      <td>0.045084</td>\n",
              "      <td>0.004695</td>\n",
              "      <td>0.098399</td>\n",
              "      <td>0.012997</td>\n",
              "      <td>0.006289</td>\n",
              "      <td>0.0</td>\n",
              "      <td>0.005362</td>\n",
              "    </tr>\n",
              "    <tr>\n",
              "      <th>3</th>\n",
              "      <td>real</td>\n",
              "      <td>0.053853</td>\n",
              "      <td>0.000000</td>\n",
              "      <td>0.079545</td>\n",
              "      <td>0.019461</td>\n",
              "      <td>0.000000</td>\n",
              "      <td>0.0</td>\n",
              "      <td>0.008043</td>\n",
              "    </tr>\n",
              "    <tr>\n",
              "      <th>4</th>\n",
              "      <td>real</td>\n",
              "      <td>0.021425</td>\n",
              "      <td>0.000000</td>\n",
              "      <td>0.084677</td>\n",
              "      <td>0.007908</td>\n",
              "      <td>0.000000</td>\n",
              "      <td>0.0</td>\n",
              "      <td>0.000000</td>\n",
              "    </tr>\n",
              "  </tbody>\n",
              "</table>\n",
              "</div>"
            ],
            "text/plain": [
              "   type  word_count  exclamation_count  average_word_count  capital_count  question_count  negation_count  fpp_count\n",
              "0  real    0.044753           0.000000            0.076992       0.015816        0.012579             0.0   0.008043\n",
              "1  real    0.014228           0.000000            0.061195       0.004607        0.000000             0.0   0.000000\n",
              "2  real    0.045084           0.004695            0.098399       0.012997        0.006289             0.0   0.005362\n",
              "3  real    0.053853           0.000000            0.079545       0.019461        0.000000             0.0   0.008043\n",
              "4  real    0.021425           0.000000            0.084677       0.007908        0.000000             0.0   0.000000"
            ]
          },
          "metadata": {
            "tags": []
          },
          "execution_count": 286
        }
      ]
    },
    {
      "cell_type": "code",
      "metadata": {
        "colab_type": "code",
        "outputId": "d60f4797-bb26-4a41-ef2e-3d27b1168094",
        "id": "HBsd2PEHLwr8",
        "colab": {
          "base_uri": "https://localhost:8080/",
          "height": 623
        }
      },
      "source": [
        "fake_df = df[df['type']=='fake']\n",
        "real_df = df[df['type']=='real']\n",
        "\n",
        "\n",
        "fake_desc = fake_df.describe()\n",
        "real_desc = real_df.describe()\n",
        "\n",
        "fake_desc.to_csv(r'drive/My Drive/The_Research/fake_desc.csv', index = False)\n",
        "fake_desc.head()\n",
        "\n",
        "#Description:\n",
        "\n",
        "pd.set_option(\"display.max_columns\", None)\n",
        "print(\"FAKE NEWS ANALYSIS\")\n",
        "print(fake_desc)\n",
        "print(\"REAL NEWS ANALYSIS\")\n",
        "print(real_desc)\n",
        "\n",
        "# PLOTS:\n",
        "\n",
        "\n",
        "\n",
        "%matplotlib inline\n",
        "sns.set(rc={'figure.figsize':(15,10)}, font_scale=1.5, style='whitegrid')\n",
        "\n",
        "\n",
        "fig = sns.boxplot(x=\"type\", y=\"fpp_count\", data=df)\n",
        "plt.savefig('fpp_count.png')\n"
      ],
      "execution_count": 317,
      "outputs": [
        {
          "output_type": "display_data",
          "data": {
            "image/png": "[encoded data removed]",
            "text/plain": [
              "<Figure size 1080x720 with 1 Axes>"
            ]
          },
          "metadata": {
            "tags": []
          }
        }
      ]
    },
    {
      "cell_type": "code",
      "metadata": {
        "id": "_wDfSHO_2z-O",
        "colab_type": "code",
        "colab": {}
      },
      "source": [
        ""
      ],
      "execution_count": 0,
      "outputs": []
    }
  ]
}